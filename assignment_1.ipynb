{
  "nbformat": 4,
  "nbformat_minor": 0,
  "metadata": {
    "colab": {
      "provenance": [],
      "mount_file_id": "11aaRbyXCnCbLKEKieDuSXbZcztf07nIH",
      "authorship_tag": "ABX9TyPtFR/h7IHZUTwz8bxDXyTI",
      "include_colab_link": true
    },
    "kernelspec": {
      "name": "python3",
      "display_name": "Python 3"
    },
    "language_info": {
      "name": "python"
    }
  },
  "cells": [
    {
      "cell_type": "markdown",
      "metadata": {
        "id": "view-in-github",
        "colab_type": "text"
      },
      "source": [
        "<a href=\"https://colab.research.google.com/github/Riya-vijay/DAY-1/blob/main/assignment_1.ipynb\" target=\"_parent\"><img src=\"https://colab.research.google.com/assets/colab-badge.svg\" alt=\"Open In Colab\"/></a>"
      ]
    },
    {
      "cell_type": "code",
      "execution_count": null,
      "metadata": {
        "id": "XLgMsNaR5RIJ"
      },
      "outputs": [],
      "source": [
        "import pandas as pd\n",
        "import numpy as np\n",
        "import matplotlib.pyplot as plt\n",
        "import seaborn as sns\n",
        "\n",
        "sns.set(style='whitegrid')  # Set Seaborn style"
      ]
    },
    {
      "cell_type": "code",
      "source": [
        "#Import Libraries\n",
        "import pandas as pd\n",
        "import matplotlib.pyplot as plt\n",
        "import seaborn as sns\n",
        "\n",
        "#To display plots inline in some environments like Jupyter/Colab\n",
        "%matplotlib inline\n"
      ],
      "metadata": {
        "id": "YviluGC07Zhh"
      },
      "execution_count": null,
      "outputs": []
    },
    {
      "cell_type": "code",
      "source": [
        "#Data Loading\n",
        "df = pd.read_csv('/content/Wholesale_Customers_Data.csv')\n",
        "print(\"First 5 rows of the dataset:\")\n",
        "print(df.head())"
      ],
      "metadata": {
        "id": "koxnqKgH9AgO",
        "collapsed": true
      },
      "execution_count": null,
      "outputs": []
    },
    {
      "cell_type": "code",
      "source": [
        "# Check for missing values\n",
        "print(\"\\nMissing values per column:\")\n",
        "print(df.isnull().sum())\n",
        "\n",
        "# For this dataset, if there are missing values, fill numerical ones with median\n",
        "# Adjust based on actual missing values\n",
        "for col in df.select_dtypes(include=['float64', 'int64']).columns:\n",
        "    if df[col].isnull().sum() > 0:\n",
        "        median_val = df[col].median()\n",
        "        df[col].fillna(median_val, inplace=True)\n"
      ],
      "metadata": {
        "id": "LUvUfcMW7w_G"
      },
      "execution_count": null,
      "outputs": []
    },
    {
      "cell_type": "code",
      "source": [
        "# Simple Transformation\n",
        "# Example: Create a new feature - total spend across all categories\n",
        "spend_cols = ['Fresh', 'Milk', 'Grocery', 'Frozen', 'Detergents_Paper', 'Delicassen']\n",
        "df['Total_Spend'] = df[spend_cols].sum(axis=1)\n",
        "print(\"\\nAdded new feature 'Total_Spend'. Sample values:\")\n",
        "print(df[['Total_Spend']].head())\n"
      ],
      "metadata": {
        "id": "LM-FzkAs7yT8"
      },
      "execution_count": null,
      "outputs": []
    },
    {
      "cell_type": "code",
      "source": [
        "# Set seaborn style\n",
        "sns.set(style='whitegrid', palette='muted')\n",
        "\n",
        "# 5.1 Distribution of a Key Variable (e.g., Total Spend)\n",
        "plt.figure(figsize=(8,6))\n",
        "sns.histplot(df['Total_Spend'], bins=30, kde=True)\n",
        "plt.title('Distribution of Total Spend')\n",
        "plt.xlabel('Total Spend')\n",
        "plt.ylabel('Frequency')\n",
        "plt.show()\n",
        "\n"
      ],
      "metadata": {
        "id": "7ayo5oLf705F"
      },
      "execution_count": null,
      "outputs": []
    },
    {
      "cell_type": "code",
      "source": [
        "#Relationship Between Two Numerical Variables (Milk vs Grocery)\n",
        "plt.figure(figsize=(8,6))\n",
        "sns.scatterplot(data=df, x='Milk', y='Grocery')\n",
        "plt.title('Milk vs Grocery Spend')\n",
        "plt.xlabel('Milk')\n",
        "plt.ylabel('Grocery')\n",
        "plt.show()\n",
        "\n",
        "\n"
      ],
      "metadata": {
        "id": "Y2eM3FYH77_m"
      },
      "execution_count": null,
      "outputs": []
    },
    {
      "cell_type": "code",
      "source": [
        "plt.figure(figsize=(10, 6))\n",
        "sns.histplot(data=df, x='Total_Spend', bins=30, hue='Channel', multiple='stack', palette='pastel')\n",
        "plt.title('Histogram of Total Spend by Channel')\n",
        "plt.xlabel('Total Spend')\n",
        "plt.ylabel('Count')\n",
        "plt.show()"
      ],
      "metadata": {
        "id": "VrLUosHU7_ZX"
      },
      "execution_count": null,
      "outputs": []
    }
  ]
}