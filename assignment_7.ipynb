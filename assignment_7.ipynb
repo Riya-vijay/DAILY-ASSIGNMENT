{
  "nbformat": 4,
  "nbformat_minor": 0,
  "metadata": {
    "colab": {
      "provenance": [],
      "authorship_tag": "ABX9TyPFKtOl2vIAr1m+PH7Kkru/",
      "include_colab_link": true
    },
    "kernelspec": {
      "name": "python3",
      "display_name": "Python 3"
    },
    "language_info": {
      "name": "python"
    }
  },
  "cells": [
    {
      "cell_type": "markdown",
      "metadata": {
        "id": "view-in-github",
        "colab_type": "text"
      },
      "source": [
        "<a href=\"https://colab.research.google.com/github/Riya-vijay/DAILY-ASSIGNMENT/blob/main/assignment_7.ipynb\" target=\"_parent\"><img src=\"https://colab.research.google.com/assets/colab-badge.svg\" alt=\"Open In Colab\"/></a>"
      ]
    },
    {
      "cell_type": "code",
      "execution_count": 10,
      "metadata": {
        "id": "sSsOwGivifDb"
      },
      "outputs": [],
      "source": [
        "import numpy as np\n",
        "import pandas as pd\n",
        "from sklearn.datasets import fetch_california_housing\n",
        "from sklearn.model_selection import train_test_split, GridSearchCV\n",
        "from sklearn.linear_model import LinearRegression, Ridge, Lasso\n",
        "from sklearn.ensemble import RandomForestRegressor\n",
        "from sklearn.metrics import mean_squared_error, r2_score"
      ]
    },
    {
      "cell_type": "code",
      "source": [
        "data = pd.read_csv('/content/Wholesale_Customers_Data (1).csv')\n",
        "\n",
        "# Assuming 'Delicassen' is the target variable (y) and the rest are features (X)\n",
        "X = data.drop('Delicassen', axis=1)\n",
        "y = data['Delicassen']"
      ],
      "metadata": {
        "id": "ggMvNEAWihlT"
      },
      "execution_count": 4,
      "outputs": []
    },
    {
      "cell_type": "code",
      "source": [
        "# Step 3: Train-Test Split\n",
        "X_train, X_test, y_train, y_test = train_test_split(X, y, test_size=0.2, random_state=42)\n",
        "\n",
        "# Step 4: Simple Linear Regression\n",
        "lr = LinearRegression()\n",
        "lr.fit(X_train, y_train)\n",
        "lr_pred = lr.predict(X_test)\n",
        "\n",
        "# Step 5: Ridge Regression\n",
        "ridge = Ridge(alpha=1.0)\n",
        "ridge.fit(X_train, y_train)\n",
        "ridge_pred = ridge.predict(X_test)"
      ],
      "metadata": {
        "id": "6f_5fCVfjZpx"
      },
      "execution_count": 5,
      "outputs": []
    },
    {
      "cell_type": "code",
      "source": [
        "# Step 6: Lasso Regression\n",
        "lasso = Lasso(alpha=0.1)\n",
        "lasso.fit(X_train, y_train)\n",
        "lasso_pred = lasso.predict(X_test)"
      ],
      "metadata": {
        "id": "r9ZBbGCFjgCU"
      },
      "execution_count": 6,
      "outputs": []
    },
    {
      "cell_type": "code",
      "source": [
        "# Step 7: RandomForest with GridSearchCV\n",
        "param_grid = {\n",
        "    'n_estimators': [50, 100],\n",
        "    'max_depth': [5, 10, None]\n",
        "}\n",
        "rf = RandomForestRegressor(random_state=42)\n",
        "grid_search = GridSearchCV(estimator=rf, param_grid=param_grid, cv=3, scoring='r2')\n",
        "grid_search.fit(X_train, y_train)\n",
        "best_rf = grid_search.best_estimator_\n",
        "rf_pred = best_rf.predict(X_test)"
      ],
      "metadata": {
        "id": "b93wvklIjj71"
      },
      "execution_count": 12,
      "outputs": []
    },
    {
      "cell_type": "code",
      "source": [
        "# Step 8: Evaluation Function\n",
        "def evaluate(model_name, y_true, y_pred):\n",
        "    print(f\"{model_name} R2 Score: {r2_score(y_true, y_pred):.4f}, MSE: {mean_squared_error(y_true, y_pred):.4f}\")\n",
        "\n",
        "evaluate(\"Linear Regression\", y_test, lr_pred)\n",
        "evaluate(\"Ridge Regression\", y_test, ridge_pred)\n",
        "evaluate(\"Lasso Regression\", y_test, lasso_pred)\n",
        "evaluate(\"RandomForest (GridSearch)\", y_test, rf_pred)\n"
      ],
      "metadata": {
        "colab": {
          "base_uri": "https://localhost:8080/"
        },
        "id": "J9Pp7fVgjoHN",
        "outputId": "9b78bd11-8c8c-418e-e478-fe42c9cdf3c4"
      },
      "execution_count": 8,
      "outputs": [
        {
          "output_type": "stream",
          "name": "stdout",
          "text": [
            "Linear Regression R2 Score: -0.2018, MSE: 2667264.4290\n",
            "Ridge Regression R2 Score: -0.2016, MSE: 2666813.5342\n",
            "Lasso Regression R2 Score: -0.2018, MSE: 2667177.1867\n",
            "RandomForest (GridSearch) R2 Score: -1.4887, MSE: 5523326.5175\n"
          ]
        }
      ]
    },
    {
      "cell_type": "code",
      "source": [
        "# Step 1: Import Libraries\n",
        "import numpy as np\n",
        "import pandas as pd\n",
        "import matplotlib.pyplot as plt\n",
        "from sklearn.datasets import fetch_california_housing\n",
        "from sklearn.model_selection import train_test_split, GridSearchCV\n",
        "from sklearn.linear_model import LinearRegression, Ridge, Lasso\n",
        "from sklearn.ensemble import RandomForestRegressor\n",
        "from sklearn.metrics import mean_squared_error, r2_score\n",
        "\n",
        "# Step 2: Use existing data splits from previous cells\n",
        "# X_train, X_test, y_train, y_test are already defined\n",
        "\n",
        "# Step 3: Initialize Models\n",
        "lr = LinearRegression()\n",
        "ridge = Ridge(alpha=1.0)\n",
        "lasso = Lasso(alpha=0.1)\n",
        "rf = RandomForestRegressor(random_state=42)\n",
        "\n",
        "# Step 4: Fit Models\n",
        "lr.fit(X_train, y_train)\n",
        "ridge.fit(X_train, y_train)\n",
        "lasso.fit(X_train, y_train)\n",
        "\n",
        "# Step 5: Grid Search for RandomForest\n",
        "param_grid = {\n",
        "    'n_estimators': [50, 100],\n",
        "    'max_depth': [5, 10, None]\n",
        "}\n",
        "grid_search = GridSearchCV(estimator=rf, param_grid=param_grid, cv=3, scoring='r2')\n",
        "grid_search.fit(X_train, y_train)\n",
        "best_rf = grid_search.best_estimator_\n",
        "\n",
        "# Step 6: Predictions\n",
        "lr_pred = lr.predict(X_test)\n",
        "ridge_pred = ridge.predict(X_test)\n",
        "lasso_pred = lasso.predict(X_test)\n",
        "rf_pred = best_rf.predict(X_test)\n",
        "\n",
        "# Step 7: Evaluation\n",
        "models = ['Linear', 'Ridge', 'Lasso', 'RandomForest']\n",
        "r2_scores = [\n",
        "    r2_score(y_test, lr_pred),\n",
        "    r2_score(y_test, ridge_pred),\n",
        "    r2_score(y_test, lasso_pred),\n",
        "    r2_score(y_test, rf_pred)\n",
        "]\n",
        "mses = [\n",
        "    mean_squared_error(y_test, lr_pred),\n",
        "    mean_squared_error(y_test, ridge_pred),\n",
        "    mean_squared_error(y_test, lasso_pred),\n",
        "    mean_squared_error(y_test, rf_pred)\n",
        "]\n",
        "\n",
        "# Step 8: Print Scores\n",
        "for name, r2, mse in zip(models, r2_scores, mses):\n",
        "    print(f\"{name} -> R2 Score: {r2:.4f}, MSE: {mse:.4f}\")\n",
        "\n",
        "# Step 9: Plotting R2 Scores and MSE\n",
        "plt.figure(figsize=(12, 5))\n",
        "\n",
        "plt.subplot(1, 2, 1)\n",
        "plt.bar(models, r2_scores, color='skyblue')\n",
        "plt.title(\"R² Score Comparison\")\n",
        "plt.ylabel(\"R² Score\")\n",
        "plt.ylim(min(0, min(r2_scores)), 1) # Adjust y-axis limits to include negative R2 scores if any\n",
        "\n",
        "plt.subplot(1, 2, 2)\n",
        "plt.bar(models, mses, color='salmon')\n",
        "plt.title(\"Mean Squared Error Comparison\")\n",
        "plt.ylabel(\"MSE\")\n",
        "\n",
        "plt.tight_layout()\n",
        "plt.show()"
      ],
      "metadata": {
        "colab": {
          "base_uri": "https://localhost:8080/",
          "height": 439
        },
        "id": "9_WCUnK5kJBZ",
        "outputId": "411ce255-8e79-4489-f108-05a922b76e10"
      },
      "execution_count": 14,
      "outputs": [
        {
          "output_type": "stream",
          "name": "stdout",
          "text": [
            "Linear -> R2 Score: -0.2018, MSE: 2667264.4290\n",
            "Ridge -> R2 Score: -0.2016, MSE: 2666813.5342\n",
            "Lasso -> R2 Score: -0.2018, MSE: 2667177.1867\n",
            "RandomForest -> R2 Score: -1.4887, MSE: 5523326.5175\n"
          ]
        },
        {
          "output_type": "display_data",
          "data": {
            "text/plain": [
              "<Figure size 1200x500 with 2 Axes>"
            ],
            "image/png": "[encoded data removed]"
          },
          "metadata": {}
        }
      ]
    }
  ]
}