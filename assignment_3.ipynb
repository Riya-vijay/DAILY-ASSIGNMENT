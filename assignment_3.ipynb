{
  "nbformat": 4,
  "nbformat_minor": 0,
  "metadata": {
    "colab": {
      "provenance": [],
      "authorship_tag": "ABX9TyPsCdQbclSUcyDiJch2B+Pt",
      "include_colab_link": true
    },
    "kernelspec": {
      "name": "python3",
      "display_name": "Python 3"
    },
    "language_info": {
      "name": "python"
    }
  },
  "cells": [
    {
      "cell_type": "markdown",
      "metadata": {
        "id": "view-in-github",
        "colab_type": "text"
      },
      "source": [
        "<a href=\"https://colab.research.google.com/github/Riya-vijay/DAILY-ASSIGNMENT/blob/main/assignment_3.ipynb\" target=\"_parent\"><img src=\"https://colab.research.google.com/assets/colab-badge.svg\" alt=\"Open In Colab\"/></a>"
      ]
    },
    {
      "cell_type": "markdown",
      "source": [
        "1. Probability and Bayes' Theorem"
      ],
      "metadata": {
        "id": "rWzfd6KML5Nk"
      }
    },
    {
      "cell_type": "code",
      "source": [
        "# Dataset: 70 heads, 30 tails from 100 coin flips\n",
        "heads = 70\n",
        "tails = 30\n",
        "total = heads + tails\n",
        "\n",
        "# Probability calculations\n",
        "p_heads = heads / total\n",
        "p_tails = tails / total\n",
        "\n",
        "print(f\"Probability of Heads: {p_heads}\")\n",
        "print(f\"Probability of Tails: {p_tails}\")\n"
      ],
      "metadata": {
        "colab": {
          "base_uri": "https://localhost:8080/"
        },
        "id": "5P_5G2LjL6bv",
        "outputId": "aadc2ada-eff9-4539-b381-96872126a9ba"
      },
      "execution_count": 2,
      "outputs": [
        {
          "output_type": "stream",
          "name": "stdout",
          "text": [
            "Probability of Heads: 0.7\n",
            "Probability of Tails: 0.3\n"
          ]
        }
      ]
    },
    {
      "cell_type": "markdown",
      "source": [
        " Bayes' Theorem Example (Medical Test)"
      ],
      "metadata": {
        "id": "-7SauJc8MDuW"
      }
    },
    {
      "cell_type": "code",
      "source": [
        "# Bayes' Theorem: P(Disease|Positive) = (P(Positive|Disease) * P(Disease)) / P(Positive)\n",
        "\n",
        "# Let's assume:\n",
        "P_disease = 0.03                 # 3% of people have the disease\n",
        "P_positive_given_disease = 0.97  # 97% chance test is positive if diseased\n",
        "P_positive_given_no_disease = 0.05  # 5% false positive rate\n",
        "\n",
        "# Total probability of testing positive:\n",
        "P_no_disease = 1 - P_disease\n",
        "P_positive = (P_positive_given_disease * P_disease) + (P_positive_given_no_disease * P_no_disease)\n",
        "\n",
        "# Bayes' Theorem\n",
        "P_disease_given_positive = (P_positive_given_disease * P_disease) / P_positive\n",
        "\n",
        "print(f\"Probability of having disease given a positive test: {P_disease_given_positive:.4f}\")\n"
      ],
      "metadata": {
        "colab": {
          "base_uri": "https://localhost:8080/"
        },
        "id": "hcK1H88uMapM",
        "outputId": "149f178d-bb06-43e0-befb-911628115f5c"
      },
      "execution_count": 3,
      "outputs": [
        {
          "output_type": "stream",
          "name": "stdout",
          "text": [
            "Probability of having disease given a positive test: 0.3750\n"
          ]
        }
      ]
    },
    {
      "cell_type": "markdown",
      "source": [
        " 2. Derivative and Gradient Descent Concept"
      ],
      "metadata": {
        "id": "-aWWfCKbMxsa"
      }
    },
    {
      "cell_type": "code",
      "source": [
        "# Define the function: f(x) = 4x^3 + 3x - 6\n",
        "def f(x):\n",
        "    return 4*x**3 + 3*x - 6\n",
        "\n",
        "# Derivative of f(x): f'(x) = 12*x**2 - 3\n",
        "def f_prime(x):\n",
        "    return 12*x**2 - 3\n",
        "\n",
        "# Evaluate derivative at a point\n",
        "x_val = 2\n",
        "print(f\"Derivative at x = {x_val}: {f_prime(x_val)}\")\n"
      ],
      "metadata": {
        "colab": {
          "base_uri": "https://localhost:8080/"
        },
        "id": "doLCSkTKM5Oo",
        "outputId": "2171f33e-d46d-4773-f722-0f5026881e06"
      },
      "execution_count": 5,
      "outputs": [
        {
          "output_type": "stream",
          "name": "stdout",
          "text": [
            "Derivative at x = 2: 45\n"
          ]
        }
      ]
    },
    {
      "cell_type": "markdown",
      "source": [
        "Gradient Descent Explanation"
      ],
      "metadata": {
        "id": "rJxcxbq2OIL7"
      }
    },
    {
      "cell_type": "code",
      "source": [
        "# Simple Gradient Descent Update Step\n",
        "learning_rate = 0.3\n",
        "x = 2  # starting point\n",
        "\n",
        "# Perform one step of gradient descent\n",
        "gradient = f_prime(x)\n",
        "x_new = x - learning_rate * gradient\n",
        "\n",
        "print(f\"New x after one gradient descent step: {x_new}\")\n"
      ],
      "metadata": {
        "colab": {
          "base_uri": "https://localhost:8080/"
        },
        "id": "Lx9FxQa2OM23",
        "outputId": "4fad9c25-8818-4cd0-b9be-8cf592215769"
      },
      "execution_count": 7,
      "outputs": [
        {
          "output_type": "stream",
          "name": "stdout",
          "text": [
            "New x after one gradient descent step: -2.5\n"
          ]
        }
      ]
    }
  ]
}